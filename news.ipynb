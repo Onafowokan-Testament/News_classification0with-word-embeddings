{
 "cells": [
  {
   "cell_type": "code",
   "execution_count": 1,
   "metadata": {},
   "outputs": [],
   "source": [
    "import pandas as pd\n",
    "import numpy as np\n",
    "import spacy\n",
    "\n",
    "from sklearn.model_selection import train_test_split"
   ]
  },
  {
   "cell_type": "code",
   "execution_count": 2,
   "metadata": {},
   "outputs": [],
   "source": [
    "nlp = spacy.load('en_core_web_md')"
   ]
  },
  {
   "cell_type": "code",
   "execution_count": 3,
   "metadata": {},
   "outputs": [],
   "source": [
    "data= pd.read_csv('Data_Train.csv', delimiter = ',', encoding ='windows-1252')"
   ]
  },
  {
   "cell_type": "code",
   "execution_count": 4,
   "metadata": {},
   "outputs": [
    {
     "data": {
      "text/html": [
       "<div>\n",
       "<style scoped>\n",
       "    .dataframe tbody tr th:only-of-type {\n",
       "        vertical-align: middle;\n",
       "    }\n",
       "\n",
       "    .dataframe tbody tr th {\n",
       "        vertical-align: top;\n",
       "    }\n",
       "\n",
       "    .dataframe thead th {\n",
       "        text-align: right;\n",
       "    }\n",
       "</style>\n",
       "<table border=\"1\" class=\"dataframe\">\n",
       "  <thead>\n",
       "    <tr style=\"text-align: right;\">\n",
       "      <th></th>\n",
       "      <th>STORY</th>\n",
       "      <th>SECTION</th>\n",
       "    </tr>\n",
       "  </thead>\n",
       "  <tbody>\n",
       "    <tr>\n",
       "      <th>0</th>\n",
       "      <td>But the most painful was the huge reversal in ...</td>\n",
       "      <td>3</td>\n",
       "    </tr>\n",
       "    <tr>\n",
       "      <th>1</th>\n",
       "      <td>How formidable is the opposition alliance amon...</td>\n",
       "      <td>0</td>\n",
       "    </tr>\n",
       "    <tr>\n",
       "      <th>2</th>\n",
       "      <td>Most Asian currencies were trading lower today...</td>\n",
       "      <td>3</td>\n",
       "    </tr>\n",
       "    <tr>\n",
       "      <th>3</th>\n",
       "      <td>If you want to answer any question, click on ‘...</td>\n",
       "      <td>1</td>\n",
       "    </tr>\n",
       "    <tr>\n",
       "      <th>4</th>\n",
       "      <td>In global markets, gold prices edged up today ...</td>\n",
       "      <td>3</td>\n",
       "    </tr>\n",
       "    <tr>\n",
       "      <th>...</th>\n",
       "      <td>...</td>\n",
       "      <td>...</td>\n",
       "    </tr>\n",
       "    <tr>\n",
       "      <th>7623</th>\n",
       "      <td>Karnataka has been a Congress bastion, but it ...</td>\n",
       "      <td>0</td>\n",
       "    </tr>\n",
       "    <tr>\n",
       "      <th>7624</th>\n",
       "      <td>The film, which also features Janhvi Kapoor, w...</td>\n",
       "      <td>2</td>\n",
       "    </tr>\n",
       "    <tr>\n",
       "      <th>7625</th>\n",
       "      <td>The database has been created after bringing t...</td>\n",
       "      <td>1</td>\n",
       "    </tr>\n",
       "    <tr>\n",
       "      <th>7626</th>\n",
       "      <td>The state, which has had an uneasy relationshi...</td>\n",
       "      <td>0</td>\n",
       "    </tr>\n",
       "    <tr>\n",
       "      <th>7627</th>\n",
       "      <td>Virus stars Kunchacko Boban, Tovino Thomas, In...</td>\n",
       "      <td>2</td>\n",
       "    </tr>\n",
       "  </tbody>\n",
       "</table>\n",
       "<p>7628 rows × 2 columns</p>\n",
       "</div>"
      ],
      "text/plain": [
       "                                                  STORY  SECTION\n",
       "0     But the most painful was the huge reversal in ...        3\n",
       "1     How formidable is the opposition alliance amon...        0\n",
       "2     Most Asian currencies were trading lower today...        3\n",
       "3     If you want to answer any question, click on ‘...        1\n",
       "4     In global markets, gold prices edged up today ...        3\n",
       "...                                                 ...      ...\n",
       "7623  Karnataka has been a Congress bastion, but it ...        0\n",
       "7624  The film, which also features Janhvi Kapoor, w...        2\n",
       "7625  The database has been created after bringing t...        1\n",
       "7626  The state, which has had an uneasy relationshi...        0\n",
       "7627  Virus stars Kunchacko Boban, Tovino Thomas, In...        2\n",
       "\n",
       "[7628 rows x 2 columns]"
      ]
     },
     "execution_count": 4,
     "metadata": {},
     "output_type": "execute_result"
    }
   ],
   "source": [
    "data\n"
   ]
  },
  {
   "cell_type": "code",
   "execution_count": 5,
   "metadata": {},
   "outputs": [
    {
     "name": "stdout",
     "output_type": "stream",
     "text": [
      "<class 'pandas.core.frame.DataFrame'>\n",
      "RangeIndex: 7628 entries, 0 to 7627\n",
      "Data columns (total 2 columns):\n",
      " #   Column   Non-Null Count  Dtype \n",
      "---  ------   --------------  ----- \n",
      " 0   STORY    7628 non-null   object\n",
      " 1   SECTION  7628 non-null   int64 \n",
      "dtypes: int64(1), object(1)\n",
      "memory usage: 119.3+ KB\n"
     ]
    }
   ],
   "source": [
    "data.info()"
   ]
  },
  {
   "cell_type": "code",
   "execution_count": 6,
   "metadata": {},
   "outputs": [
    {
     "data": {
      "text/plain": [
       "SECTION\n",
       "1    2772\n",
       "2    1924\n",
       "0    1686\n",
       "3    1246\n",
       "Name: count, dtype: int64"
      ]
     },
     "execution_count": 6,
     "metadata": {},
     "output_type": "execute_result"
    }
   ],
   "source": [
    "data['SECTION'].value_counts()"
   ]
  },
  {
   "cell_type": "markdown",
   "metadata": {},
   "source": [
    "I am not really sure of the categories of the section, but it is just for learning"
   ]
  },
  {
   "cell_type": "code",
   "execution_count": 7,
   "metadata": {},
   "outputs": [],
   "source": [
    "def preprocess(text):\n",
    "    doc = nlp(text)\n",
    "    filtered_text = []\n",
    "    for token in doc:\n",
    "        if token.is_punct and token.is_stop:\n",
    "            continue\n",
    "        \n",
    "        filtered_text.append(token.lemma_)\n",
    "\n",
    "    \n",
    "    return ' '.join(filtered_text)\n",
    "        \n"
   ]
  },
  {
   "cell_type": "code",
   "execution_count": 8,
   "metadata": {},
   "outputs": [],
   "source": [
    "data['vec_section'] = data['STORY'].apply(lambda x : preprocess(x))"
   ]
  },
  {
   "cell_type": "code",
   "execution_count": null,
   "metadata": {},
   "outputs": [],
   "source": [
    "data['vectorized_data'] = data['vec_section'].apply(lambda x : nlp(x).vector)\n"
   ]
  },
  {
   "cell_type": "code",
   "execution_count": null,
   "metadata": {},
   "outputs": [
    {
     "data": {
      "text/html": [
       "<div>\n",
       "<style scoped>\n",
       "    .dataframe tbody tr th:only-of-type {\n",
       "        vertical-align: middle;\n",
       "    }\n",
       "\n",
       "    .dataframe tbody tr th {\n",
       "        vertical-align: top;\n",
       "    }\n",
       "\n",
       "    .dataframe thead th {\n",
       "        text-align: right;\n",
       "    }\n",
       "</style>\n",
       "<table border=\"1\" class=\"dataframe\">\n",
       "  <thead>\n",
       "    <tr style=\"text-align: right;\">\n",
       "      <th></th>\n",
       "      <th>STORY</th>\n",
       "      <th>SECTION</th>\n",
       "      <th>vec_section</th>\n",
       "      <th>vectorized_data</th>\n",
       "    </tr>\n",
       "  </thead>\n",
       "  <tbody>\n",
       "    <tr>\n",
       "      <th>0</th>\n",
       "      <td>But the most painful was the huge reversal in ...</td>\n",
       "      <td>3</td>\n",
       "      <td>but the most painful be the huge reversal in f...</td>\n",
       "      <td>[-1.5943478, 1.0397847, -2.6801314, -0.0271194...</td>\n",
       "    </tr>\n",
       "    <tr>\n",
       "      <th>1</th>\n",
       "      <td>How formidable is the opposition alliance amon...</td>\n",
       "      <td>0</td>\n",
       "      <td>how formidable be the opposition alliance amon...</td>\n",
       "      <td>[-3.1753776, 0.09757098, 1.5610592, 1.0466349,...</td>\n",
       "    </tr>\n",
       "    <tr>\n",
       "      <th>2</th>\n",
       "      <td>Most Asian currencies were trading lower today...</td>\n",
       "      <td>3</td>\n",
       "      <td>Most asian currency be trade low today . south...</td>\n",
       "      <td>[-3.1166031, -2.0884802, -2.662185, 2.5199428,...</td>\n",
       "    </tr>\n",
       "    <tr>\n",
       "      <th>3</th>\n",
       "      <td>If you want to answer any question, click on ‘...</td>\n",
       "      <td>1</td>\n",
       "      <td>if you want to answer any question , click on ...</td>\n",
       "      <td>[-0.027849795, 2.1713407, -2.204065, -0.109234...</td>\n",
       "    </tr>\n",
       "    <tr>\n",
       "      <th>4</th>\n",
       "      <td>In global markets, gold prices edged up today ...</td>\n",
       "      <td>3</td>\n",
       "      <td>in global market , gold price edge up today as...</td>\n",
       "      <td>[-1.2333716, -0.22299613, -3.2364547, 1.955066...</td>\n",
       "    </tr>\n",
       "    <tr>\n",
       "      <th>...</th>\n",
       "      <td>...</td>\n",
       "      <td>...</td>\n",
       "      <td>...</td>\n",
       "      <td>...</td>\n",
       "    </tr>\n",
       "    <tr>\n",
       "      <th>7623</th>\n",
       "      <td>Karnataka has been a Congress bastion, but it ...</td>\n",
       "      <td>0</td>\n",
       "      <td>Karnataka have be a Congress bastion , but it ...</td>\n",
       "      <td>[-2.6275887, 1.1259315, -0.8625272, 1.294819, ...</td>\n",
       "    </tr>\n",
       "    <tr>\n",
       "      <th>7624</th>\n",
       "      <td>The film, which also features Janhvi Kapoor, w...</td>\n",
       "      <td>2</td>\n",
       "      <td>the film , which also feature Janhvi Kapoor , ...</td>\n",
       "      <td>[-0.8646396, 2.8826194, -3.365659, -1.6768731,...</td>\n",
       "    </tr>\n",
       "    <tr>\n",
       "      <th>7625</th>\n",
       "      <td>The database has been created after bringing t...</td>\n",
       "      <td>1</td>\n",
       "      <td>the database have be create after bring togeth...</td>\n",
       "      <td>[-2.4555013, 0.5194797, -0.8103986, 1.5217817,...</td>\n",
       "    </tr>\n",
       "    <tr>\n",
       "      <th>7626</th>\n",
       "      <td>The state, which has had an uneasy relationshi...</td>\n",
       "      <td>0</td>\n",
       "      <td>the state , which have have an uneasy relation...</td>\n",
       "      <td>[-2.4325054, 0.7297126, -0.79653114, 0.9626245...</td>\n",
       "    </tr>\n",
       "    <tr>\n",
       "      <th>7627</th>\n",
       "      <td>Virus stars Kunchacko Boban, Tovino Thomas, In...</td>\n",
       "      <td>2</td>\n",
       "      <td>virus star Kunchacko Boban , Tovino Thomas , I...</td>\n",
       "      <td>[-1.9845068, -0.6844959, 0.25392509, -1.078935...</td>\n",
       "    </tr>\n",
       "  </tbody>\n",
       "</table>\n",
       "<p>7628 rows × 4 columns</p>\n",
       "</div>"
      ],
      "text/plain": [
       "                                                  STORY  SECTION  \\\n",
       "0     But the most painful was the huge reversal in ...        3   \n",
       "1     How formidable is the opposition alliance amon...        0   \n",
       "2     Most Asian currencies were trading lower today...        3   \n",
       "3     If you want to answer any question, click on ‘...        1   \n",
       "4     In global markets, gold prices edged up today ...        3   \n",
       "...                                                 ...      ...   \n",
       "7623  Karnataka has been a Congress bastion, but it ...        0   \n",
       "7624  The film, which also features Janhvi Kapoor, w...        2   \n",
       "7625  The database has been created after bringing t...        1   \n",
       "7626  The state, which has had an uneasy relationshi...        0   \n",
       "7627  Virus stars Kunchacko Boban, Tovino Thomas, In...        2   \n",
       "\n",
       "                                            vec_section  \\\n",
       "0     but the most painful be the huge reversal in f...   \n",
       "1     how formidable be the opposition alliance amon...   \n",
       "2     Most asian currency be trade low today . south...   \n",
       "3     if you want to answer any question , click on ...   \n",
       "4     in global market , gold price edge up today as...   \n",
       "...                                                 ...   \n",
       "7623  Karnataka have be a Congress bastion , but it ...   \n",
       "7624  the film , which also feature Janhvi Kapoor , ...   \n",
       "7625  the database have be create after bring togeth...   \n",
       "7626  the state , which have have an uneasy relation...   \n",
       "7627  virus star Kunchacko Boban , Tovino Thomas , I...   \n",
       "\n",
       "                                        vectorized_data  \n",
       "0     [-1.5943478, 1.0397847, -2.6801314, -0.0271194...  \n",
       "1     [-3.1753776, 0.09757098, 1.5610592, 1.0466349,...  \n",
       "2     [-3.1166031, -2.0884802, -2.662185, 2.5199428,...  \n",
       "3     [-0.027849795, 2.1713407, -2.204065, -0.109234...  \n",
       "4     [-1.2333716, -0.22299613, -3.2364547, 1.955066...  \n",
       "...                                                 ...  \n",
       "7623  [-2.6275887, 1.1259315, -0.8625272, 1.294819, ...  \n",
       "7624  [-0.8646396, 2.8826194, -3.365659, -1.6768731,...  \n",
       "7625  [-2.4555013, 0.5194797, -0.8103986, 1.5217817,...  \n",
       "7626  [-2.4325054, 0.7297126, -0.79653114, 0.9626245...  \n",
       "7627  [-1.9845068, -0.6844959, 0.25392509, -1.078935...  \n",
       "\n",
       "[7628 rows x 4 columns]"
      ]
     },
     "execution_count": 23,
     "metadata": {},
     "output_type": "execute_result"
    }
   ],
   "source": [
    "data"
   ]
  },
  {
   "cell_type": "code",
   "execution_count": null,
   "metadata": {},
   "outputs": [],
   "source": [
    "x_train, x_test, y_train, y_test = train_test_split(data['vectorized_data'], data['SECTION'], \n",
    "                                                    test_size= 0.2,\n",
    "                                                    random_state=48, \n",
    "                                                    stratify=data['SECTION'])"
   ]
  },
  {
   "cell_type": "code",
   "execution_count": null,
   "metadata": {},
   "outputs": [
    {
     "name": "stdout",
     "output_type": "stream",
     "text": [
      "Shape of X_train before reshaping:  (6102,)\n",
      "Shape of X_test before reshaping:  (1526,)\n",
      "Shape of X_train after reshaping:  (6102, 300)\n",
      "Shape of X_test after reshaping:  (1526, 300)\n"
     ]
    }
   ],
   "source": [
    "\n",
    "\n",
    "print(\"Shape of X_train before reshaping: \", x_train.shape)\n",
    "print(\"Shape of X_test before reshaping: \", x_test.shape)\n",
    "\n",
    "\n",
    "X_train_2d = np.stack (x_train)\n",
    "X_test_2d =  np.stack (x_test)\n",
    "\n",
    "print(\"Shape of X_train after reshaping: \", X_train_2d.shape)\n",
    "print(\"Shape of X_test after reshaping: \", X_test_2d.shape)"
   ]
  },
  {
   "cell_type": "code",
   "execution_count": null,
   "metadata": {},
   "outputs": [
    {
     "data": {
      "text/plain": [
       "SECTION\n",
       "1    2217\n",
       "2    1539\n",
       "0    1349\n",
       "3     997\n",
       "Name: count, dtype: int64"
      ]
     },
     "execution_count": 38,
     "metadata": {},
     "output_type": "execute_result"
    }
   ],
   "source": [
    "y_train.value_counts()"
   ]
  },
  {
   "cell_type": "code",
   "execution_count": null,
   "metadata": {},
   "outputs": [
    {
     "data": {
      "text/plain": [
       "SECTION\n",
       "1    555\n",
       "2    385\n",
       "0    337\n",
       "3    249\n",
       "Name: count, dtype: int64"
      ]
     },
     "execution_count": 39,
     "metadata": {},
     "output_type": "execute_result"
    }
   ],
   "source": [
    "y_test.value_counts()"
   ]
  },
  {
   "cell_type": "markdown",
   "metadata": {},
   "source": [
    "There is an imbalance in data, but i will not work on that now, for that is not the main reason for this problem"
   ]
  },
  {
   "cell_type": "code",
   "execution_count": null,
   "metadata": {},
   "outputs": [
    {
     "data": {
      "text/plain": [
       "154     [-1.9652759, 0.8407236, -0.68037516, 0.6293255...\n",
       "1159    [-2.3403814, 0.0020631386, -0.77280563, 0.7703...\n",
       "3460    [-1.2951471, 1.8160058, -2.903667, 0.48751807,...\n",
       "1715    [-0.47793514, 1.557449, -2.8326793, 0.02395625...\n",
       "5073    [-1.87758, 2.2696428, -2.4927719, -0.055337023...\n",
       "                              ...                        \n",
       "133     [-2.3506145, 0.93192285, -1.9755405, 2.3180497...\n",
       "6521    [-2.8685653, 1.4303724, -0.33049855, 0.5647568...\n",
       "1528    [-1.8986155, 0.3892662, -1.3415482, 1.5049845,...\n",
       "4358    [-1.455209, 2.0162122, -0.6699389, 1.0541879, ...\n",
       "3267    [-2.181308, 0.33829764, -2.596703, 1.4962131, ...\n",
       "Name: vectorized_data, Length: 6102, dtype: object"
      ]
     },
     "execution_count": 40,
     "metadata": {},
     "output_type": "execute_result"
    }
   ],
   "source": [
    "x_train # type: ignore"
   ]
  },
  {
   "cell_type": "markdown",
   "metadata": {},
   "source": [
    "NOW LET US GO TO MODEL SELECTION"
   ]
  },
  {
   "cell_type": "code",
   "execution_count": null,
   "metadata": {},
   "outputs": [],
   "source": [
    "from sklearn.ensemble import RandomForestClassifier\n",
    "from sklearn.naive_bayes import MultinomialNB\n",
    "from sklearn.preprocessing import MinMaxScaler\n",
    "from sklearn.metrics import classification_report\n",
    "from sklearn.pipeline import Pipeline\n",
    "from sklearn.tree import DecisionTreeClassifier\n",
    "from  sklearn.neighbors import KNeighborsClassifier\n",
    "\n",
    "from sklearn.ensemble import GradientBoostingClassifier"
   ]
  },
  {
   "cell_type": "code",
   "execution_count": null,
   "metadata": {},
   "outputs": [
    {
     "name": "stdout",
     "output_type": "stream",
     "text": [
      "              precision    recall  f1-score   support\n",
      "\n",
      "           0       0.78      0.81      0.80       337\n",
      "           1       0.83      0.81      0.82       555\n",
      "           2       0.84      0.82      0.83       385\n",
      "           3       0.70      0.72      0.71       249\n",
      "\n",
      "    accuracy                           0.80      1526\n",
      "   macro avg       0.79      0.79      0.79      1526\n",
      "weighted avg       0.80      0.80      0.80      1526\n",
      "\n"
     ]
    }
   ],
   "source": [
    "\n",
    "clf = DecisionTreeClassifier()\n",
    "\n",
    "\n",
    "clf.fit(X_train_2d, y_train)\n",
    "\n",
    "\n",
    "\n",
    "y_pred = clf.predict(X_test_2d)\n",
    "\n",
    "\n",
    "print(classification_report(y_test, y_pred))"
   ]
  },
  {
   "cell_type": "code",
   "execution_count": null,
   "metadata": {},
   "outputs": [
    {
     "name": "stdout",
     "output_type": "stream",
     "text": [
      "              precision    recall  f1-score   support\n",
      "\n",
      "           0       0.91      0.76      0.83       337\n",
      "           1       0.70      0.95      0.81       555\n",
      "           2       0.90      0.81      0.86       385\n",
      "           3       0.84      0.50      0.63       249\n",
      "\n",
      "    accuracy                           0.80      1526\n",
      "   macro avg       0.84      0.76      0.78      1526\n",
      "weighted avg       0.82      0.80      0.79      1526\n",
      "\n"
     ]
    }
   ],
   "source": [
    "scaler = MinMaxScaler()                                         \n",
    "scaled_train_embed = scaler.fit_transform(X_train_2d)\n",
    "scaled_test_embed = scaler.transform(X_test_2d)\n",
    "\n",
    "\n",
    "clf = MultinomialNB()\n",
    "\n",
    "\n",
    "clf.fit(scaled_train_embed , y_train) \n",
    "\n",
    "\n",
    "\n",
    "y_pred = clf.predict(scaled_test_embed)\n",
    "\n",
    "\n",
    "\n",
    "print(classification_report(y_test, y_pred))"
   ]
  },
  {
   "cell_type": "code",
   "execution_count": null,
   "metadata": {},
   "outputs": [
    {
     "name": "stdout",
     "output_type": "stream",
     "text": [
      "              precision    recall  f1-score   support\n",
      "\n",
      "           0       0.91      0.76      0.83       337\n",
      "           1       0.70      0.95      0.81       555\n",
      "           2       0.90      0.81      0.86       385\n",
      "           3       0.84      0.50      0.63       249\n",
      "\n",
      "    accuracy                           0.80      1526\n",
      "   macro avg       0.84      0.76      0.78      1526\n",
      "weighted avg       0.82      0.80      0.79      1526\n",
      "\n"
     ]
    }
   ],
   "source": [
    "scaler = MinMaxScaler()                                         \n",
    "scaled_train_embed = scaler.fit_transform(X_train_2d)\n",
    "scaled_test_embed = scaler.transform(X_test_2d)\n",
    "\n",
    "\n",
    "clf = MultinomialNB()\n",
    "\n",
    "\n",
    "clf.fit(scaled_train_embed , y_train) \n",
    "\n",
    "\n",
    "\n",
    "y_pred = clf.predict(scaled_test_embed)\n",
    "\n",
    "\n",
    "\n",
    "print(classification_report(y_test, y_pred))"
   ]
  },
  {
   "cell_type": "code",
   "execution_count": null,
   "metadata": {},
   "outputs": [
    {
     "name": "stdout",
     "output_type": "stream",
     "text": [
      "              precision    recall  f1-score   support\n",
      "\n",
      "           0       0.84      0.95      0.89       337\n",
      "           1       0.89      0.95      0.92       555\n",
      "           2       0.98      0.84      0.90       385\n",
      "           3       0.94      0.84      0.89       249\n",
      "\n",
      "    accuracy                           0.90      1526\n",
      "   macro avg       0.91      0.89      0.90      1526\n",
      "weighted avg       0.91      0.90      0.90      1526\n",
      "\n"
     ]
    }
   ],
   "source": [
    "from  sklearn.neighbors import KNeighborsClassifier\n",
    "\n",
    "\n",
    "\n",
    "clf = KNeighborsClassifier(n_neighbors = 5, metric = 'euclidean')\n",
    "\n",
    "\n",
    "clf.fit(X_train_2d, y_train)\n",
    "\n",
    "y_pred = clf.predict(X_test_2d)\n",
    "\n",
    "\n",
    "\n",
    "print(classification_report(y_test, y_pred))"
   ]
  },
  {
   "cell_type": "code",
   "execution_count": null,
   "metadata": {},
   "outputs": [
    {
     "name": "stdout",
     "output_type": "stream",
     "text": [
      "              precision    recall  f1-score   support\n",
      "\n",
      "           0       0.96      0.89      0.92       337\n",
      "           1       0.92      0.95      0.93       555\n",
      "           2       0.93      0.97      0.95       385\n",
      "           3       0.91      0.86      0.89       249\n",
      "\n",
      "    accuracy                           0.93      1526\n",
      "   macro avg       0.93      0.92      0.92      1526\n",
      "weighted avg       0.93      0.93      0.93      1526\n",
      "\n"
     ]
    }
   ],
   "source": [
    "\n",
    "clf = RandomForestClassifier()\n",
    "\n",
    "\n",
    "clf.fit(X_train_2d, y_train)\n",
    "\n",
    "y_pred = clf.predict(X_test_2d)\n",
    "\n",
    "\n",
    "print(classification_report(y_test, y_pred))"
   ]
  },
  {
   "cell_type": "code",
   "execution_count": null,
   "metadata": {},
   "outputs": [],
   "source": [
    "from sklearn.ensemble import GradientBoostingClassifier\n",
    "\n",
    "\n",
    "clf = GradientBoostingClassifier()\n",
    "\n",
    "\n",
    "clf.fit(X_train_2d, y_train)\n",
    "\n",
    "\n",
    "y_pred = clf.predict(X_test_2d)\n",
    "\n",
    "\n",
    "\n",
    "print(classification_report(y_test, y_pred))"
   ]
  },
  {
   "cell_type": "code",
   "execution_count": null,
   "metadata": {},
   "outputs": [],
   "source": [
    "from sklearn.metrics import confusion_matrix\n",
    "cm = confusion_matrix(y_test, y_pred)\n",
    "cm\n",
    "\n",
    "\n",
    "from matplotlib import pyplot as plt\n",
    "import seaborn as sn\n",
    "plt.figure(figsize = (10,7))\n",
    "sn.heatmap(cm, annot=True, fmt='d')\n",
    "plt.xlabel('Prediction')\n",
    "plt.ylabel('Truth')"
   ]
  }
 ],
 "metadata": {
  "kernelspec": {
   "display_name": "Python 3",
   "language": "python",
   "name": "python3"
  },
  "language_info": {
   "codemirror_mode": {
    "name": "ipython",
    "version": 3
   },
   "file_extension": ".py",
   "mimetype": "text/x-python",
   "name": "python",
   "nbconvert_exporter": "python",
   "pygments_lexer": "ipython3",
   "version": "3.11.4"
  }
 },
 "nbformat": 4,
 "nbformat_minor": 2
}
